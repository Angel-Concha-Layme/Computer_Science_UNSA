{
  "cells": [
    {
      "cell_type": "code",
      "execution_count": 1,
      "metadata": {
        "id": "JPm2C1kiwvMY"
      },
      "outputs": [],
      "source": [
        "# Standard scientific Python imports\n",
        "import matplotlib.pyplot as plt\n",
        "\n",
        "from sklearn import tree\n",
        "from sklearn.neural_network import MLPClassifier\n",
        "from sklearn import datasets, svm, metrics\n",
        "from sklearn.model_selection import train_test_split"
      ]
    },
    {
      "attachments": {},
      "cell_type": "markdown",
      "metadata": {
        "id": "3gOsXeczLvEq"
      },
      "source": [
        "Cargando el conjunto de datos"
      ]
    },
    {
      "cell_type": "code",
      "execution_count": 2,
      "metadata": {
        "id": "-6oXTzQux2rc"
      },
      "outputs": [],
      "source": [
        "digits = datasets.load_digits()"
      ]
    },
    {
      "attachments": {},
      "cell_type": "markdown",
      "metadata": {
        "id": "Aj9oFWkSyabV"
      },
      "source": [
        "#1.  Explore y describa que información contiene cada uno de los items del conjunto de datos y el tipo de dato que almacenan?"
      ]
    },
    {
      "cell_type": "code",
      "execution_count": 3,
      "metadata": {
        "colab": {
          "base_uri": "https://localhost:8080/"
        },
        "id": "4cJC7mSAyS4l",
        "outputId": "3c436a56-3613-4cdf-e5fa-c33f6b83bad0"
      },
      "outputs": [
        {
          "data": {
            "text/plain": [
              "dict_keys(['data', 'target', 'frame', 'feature_names', 'target_names', 'images', 'DESCR'])"
            ]
          },
          "execution_count": 3,
          "metadata": {},
          "output_type": "execute_result"
        }
      ],
      "source": [
        "digits.keys()"
      ]
    },
    {
      "cell_type": "code",
      "execution_count": 4,
      "metadata": {
        "colab": {
          "base_uri": "https://localhost:8080/"
        },
        "id": "Gy7PM_LEx7_D",
        "outputId": "e854a870-f10a-4a84-a019-2caa3bf88f16"
      },
      "outputs": [
        {
          "data": {
            "text/plain": [
              "array([[ 0.,  0.,  5., ...,  0.,  0.,  0.],\n",
              "       [ 0.,  0.,  0., ..., 10.,  0.,  0.],\n",
              "       [ 0.,  0.,  0., ..., 16.,  9.,  0.],\n",
              "       ...,\n",
              "       [ 0.,  0.,  1., ...,  6.,  0.,  0.],\n",
              "       [ 0.,  0.,  2., ..., 12.,  0.,  0.],\n",
              "       [ 0.,  0., 10., ..., 12.,  1.,  0.]])"
            ]
          },
          "execution_count": 4,
          "metadata": {},
          "output_type": "execute_result"
        }
      ],
      "source": [
        "digits['data']"
      ]
    },
    {
      "attachments": {},
      "cell_type": "markdown",
      "metadata": {
        "id": "JYT2nn6j0Ufk"
      },
      "source": [
        "#2.  Cuantas imagens contiene el conjunto de datos?"
      ]
    },
    {
      "cell_type": "code",
      "execution_count": 5,
      "metadata": {
        "colab": {
          "base_uri": "https://localhost:8080/"
        },
        "id": "X58G_B6DyEQO",
        "outputId": "13ac3f17-3a1b-40c5-80f1-8b3cfbfb42b9"
      },
      "outputs": [
        {
          "data": {
            "text/plain": [
              "array([[ 0.,  0.,  5., ...,  0.,  0.,  0.],\n",
              "       [ 0.,  0.,  0., ..., 10.,  0.,  0.],\n",
              "       [ 0.,  0.,  0., ..., 16.,  9.,  0.],\n",
              "       ...,\n",
              "       [ 0.,  0.,  1., ...,  6.,  0.,  0.],\n",
              "       [ 0.,  0.,  2., ..., 12.,  0.,  0.],\n",
              "       [ 0.,  0., 10., ..., 12.,  1.,  0.]])"
            ]
          },
          "execution_count": 5,
          "metadata": {},
          "output_type": "execute_result"
        }
      ],
      "source": [
        "digits['data']"
      ]
    },
    {
      "attachments": {},
      "cell_type": "markdown",
      "metadata": {
        "id": "Yupc_GMR01pt"
      },
      "source": [
        "#3.  Cual es la dimensión de cada una de las imagenes que contiene el conjuntos de datos?"
      ]
    },
    {
      "cell_type": "code",
      "execution_count": 6,
      "metadata": {
        "colab": {
          "base_uri": "https://localhost:8080/",
          "height": 428
        },
        "id": "XfeIGNX_AF3t",
        "outputId": "c7b3abc8-70ef-4413-f7f9-34de92e27b76"
      },
      "outputs": [
        {
          "data": {
            "image/png": "[encoded data removed]",
            "text/plain": [
              "<Figure size 640x480 with 1 Axes>"
            ]
          },
          "metadata": {},
          "output_type": "display_data"
        }
      ],
      "source": [
        "num_img  = 8\n",
        "l=8\n",
        "pixels = digits['images'][num_img].reshape((l, l))\n",
        "label = digits['target'][num_img]\n",
        "\n",
        "plt.title('Real: {label}'.format(label=label))\n",
        "plt.axis('off')\n",
        "plt.imshow(pixels, cmap='gray')\n",
        "plt.show()"
      ]
    },
    {
      "cell_type": "code",
      "execution_count": 7,
      "metadata": {
        "colab": {
          "base_uri": "https://localhost:8080/"
        },
        "id": "n-E804otyGwi",
        "outputId": "3b105b10-777f-42d5-d01a-e664b2f4a878"
      },
      "outputs": [
        {
          "data": {
            "text/plain": [
              "array([[ 0.,  0.,  9., 14.,  8.,  1.,  0.,  0.],\n",
              "       [ 0.,  0., 12., 14., 14., 12.,  0.,  0.],\n",
              "       [ 0.,  0.,  9., 10.,  0., 15.,  4.,  0.],\n",
              "       [ 0.,  0.,  3., 16., 12., 14.,  2.,  0.],\n",
              "       [ 0.,  0.,  4., 16., 16.,  2.,  0.,  0.],\n",
              "       [ 0.,  3., 16.,  8., 10., 13.,  2.,  0.],\n",
              "       [ 0.,  1., 15.,  1.,  3., 16.,  8.,  0.],\n",
              "       [ 0.,  0., 11., 16., 15., 11.,  1.,  0.]])"
            ]
          },
          "execution_count": 7,
          "metadata": {},
          "output_type": "execute_result"
        }
      ],
      "source": [
        "digits['images'][num_img]"
      ]
    },
    {
      "attachments": {},
      "cell_type": "markdown",
      "metadata": {
        "id": "DHEBfpIL1YJ2"
      },
      "source": [
        "#4.  Explore y describa para qué se usa el método reshape en el siguiente bloque de código?"
      ]
    },
    {
      "cell_type": "code",
      "execution_count": 8,
      "metadata": {
        "id": "s3P1zaiR1E7j"
      },
      "outputs": [],
      "source": [
        "n_samples = len(digits.images)\n",
        "data = digits.images.reshape((n_samples, -1))"
      ]
    },
    {
      "attachments": {},
      "cell_type": "markdown",
      "metadata": {
        "id": "Cl7YAt3z4HRy"
      },
      "source": [
        "#5. Cual es la dimensión del vector de caracteristicas y de la variable objetivo?"
      ]
    },
    {
      "cell_type": "code",
      "execution_count": 9,
      "metadata": {
        "id": "MfTJpLYv1tDj"
      },
      "outputs": [],
      "source": [
        "# sea X el vector de caracteristicas\n",
        "X=data\n",
        "# sea \"y\" la variable objetivo\n",
        "y=digits.target"
      ]
    },
    {
      "attachments": {},
      "cell_type": "markdown",
      "metadata": {
        "id": "YbksSUAT2efn"
      },
      "source": [
        "#6. Explore y explique es para que usa la función train_test_split, pruebe con parametros para test_size iguales a: 0.5, 0.3 y 0.2 y explique la función del paramétro en la siguiente línea de código."
      ]
    },
    {
      "cell_type": "code",
      "execution_count": 10,
      "metadata": {
        "id": "mrQ-4G3c3Hjw"
      },
      "outputs": [],
      "source": [
        "X_train, X_test, y_train, y_test = train_test_split(X, y, test_size=0.53, shuffle=False)"
      ]
    },
    {
      "cell_type": "code",
      "execution_count": 11,
      "metadata": {
        "colab": {
          "base_uri": "https://localhost:8080/"
        },
        "id": "etO5Avg43QRK",
        "outputId": "50f37c01-22dd-457e-97bb-97755b50ab3b"
      },
      "outputs": [
        {
          "data": {
            "text/plain": [
              "((844, 64), (953, 64))"
            ]
          },
          "execution_count": 11,
          "metadata": {},
          "output_type": "execute_result"
        }
      ],
      "source": [
        "X_train.shape, X_test.shape"
      ]
    },
    {
      "attachments": {},
      "cell_type": "markdown",
      "metadata": {
        "id": "ZImVVMSH48Xf"
      },
      "source": [
        "#7. Fije el valor del parámetro test_size en un valor de 0.3 y muestre el tamanio del conjunto de entrenamiento y del conjuntos de test."
      ]
    },
    {
      "cell_type": "code",
      "execution_count": 12,
      "metadata": {
        "id": "MIe-vzcQ3TrI"
      },
      "outputs": [],
      "source": [
        "X_train, X_test, y_train, y_test = train_test_split(X, y, test_size=0.3, shuffle=False)"
      ]
    },
    {
      "attachments": {},
      "cell_type": "markdown",
      "metadata": {
        "id": "dbnMecth5rxR"
      },
      "source": [
        "Vamos a entrenar un classificador SVM el cual entrenaremos con X_train y y_train"
      ]
    },
    {
      "cell_type": "code",
      "execution_count": 13,
      "metadata": {
        "colab": {
          "base_uri": "https://localhost:8080/",
          "height": 74
        },
        "id": "DEqYGWnQ5WWF",
        "outputId": "679d4392-c56d-4d2d-cb66-56289cfafb6c"
      },
      "outputs": [
        {
          "data": {
            "text/html": [
              "<style>#sk-container-id-1 {color: black;background-color: white;}#sk-container-id-1 pre{padding: 0;}#sk-container-id-1 div.sk-toggleable {background-color: white;}#sk-container-id-1 label.sk-toggleable__label {cursor: pointer;display: block;width: 100%;margin-bottom: 0;padding: 0.3em;box-sizing: border-box;text-align: center;}#sk-container-id-1 label.sk-toggleable__label-arrow:before {content: \"▸\";float: left;margin-right: 0.25em;color: #696969;}#sk-container-id-1 label.sk-toggleable__label-arrow:hover:before {color: black;}#sk-container-id-1 div.sk-estimator:hover label.sk-toggleable__label-arrow:before {color: black;}#sk-container-id-1 div.sk-toggleable__content {max-height: 0;max-width: 0;overflow: hidden;text-align: left;background-color: #f0f8ff;}#sk-container-id-1 div.sk-toggleable__content pre {margin: 0.2em;color: black;border-radius: 0.25em;background-color: #f0f8ff;}#sk-container-id-1 input.sk-toggleable__control:checked~div.sk-toggleable__content {max-height: 200px;max-width: 100%;overflow: auto;}#sk-container-id-1 input.sk-toggleable__control:checked~label.sk-toggleable__label-arrow:before {content: \"▾\";}#sk-container-id-1 div.sk-estimator input.sk-toggleable__control:checked~label.sk-toggleable__label {background-color: #d4ebff;}#sk-container-id-1 div.sk-label input.sk-toggleable__control:checked~label.sk-toggleable__label {background-color: #d4ebff;}#sk-container-id-1 input.sk-hidden--visually {border: 0;clip: rect(1px 1px 1px 1px);clip: rect(1px, 1px, 1px, 1px);height: 1px;margin: -1px;overflow: hidden;padding: 0;position: absolute;width: 1px;}#sk-container-id-1 div.sk-estimator {font-family: monospace;background-color: #f0f8ff;border: 1px dotted black;border-radius: 0.25em;box-sizing: border-box;margin-bottom: 0.5em;}#sk-container-id-1 div.sk-estimator:hover {background-color: #d4ebff;}#sk-container-id-1 div.sk-parallel-item::after {content: \"\";width: 100%;border-bottom: 1px solid gray;flex-grow: 1;}#sk-container-id-1 div.sk-label:hover label.sk-toggleable__label {background-color: #d4ebff;}#sk-container-id-1 div.sk-serial::before {content: \"\";position: absolute;border-left: 1px solid gray;box-sizing: border-box;top: 0;bottom: 0;left: 50%;z-index: 0;}#sk-container-id-1 div.sk-serial {display: flex;flex-direction: column;align-items: center;background-color: white;padding-right: 0.2em;padding-left: 0.2em;position: relative;}#sk-container-id-1 div.sk-item {position: relative;z-index: 1;}#sk-container-id-1 div.sk-parallel {display: flex;align-items: stretch;justify-content: center;background-color: white;position: relative;}#sk-container-id-1 div.sk-item::before, #sk-container-id-1 div.sk-parallel-item::before {content: \"\";position: absolute;border-left: 1px solid gray;box-sizing: border-box;top: 0;bottom: 0;left: 50%;z-index: -1;}#sk-container-id-1 div.sk-parallel-item {display: flex;flex-direction: column;z-index: 1;position: relative;background-color: white;}#sk-container-id-1 div.sk-parallel-item:first-child::after {align-self: flex-end;width: 50%;}#sk-container-id-1 div.sk-parallel-item:last-child::after {align-self: flex-start;width: 50%;}#sk-container-id-1 div.sk-parallel-item:only-child::after {width: 0;}#sk-container-id-1 div.sk-dashed-wrapped {border: 1px dashed gray;margin: 0 0.4em 0.5em 0.4em;box-sizing: border-box;padding-bottom: 0.4em;background-color: white;}#sk-container-id-1 div.sk-label label {font-family: monospace;font-weight: bold;display: inline-block;line-height: 1.2em;}#sk-container-id-1 div.sk-label-container {text-align: center;}#sk-container-id-1 div.sk-container {/* jupyter's `normalize.less` sets `[hidden] { display: none; }` but bootstrap.min.css set `[hidden] { display: none !important; }` so we also need the `!important` here to be able to override the default hidden behavior on the sphinx rendered scikit-learn.org. See: https://github.com/scikit-learn/scikit-learn/issues/21755 */display: inline-block !important;position: relative;}#sk-container-id-1 div.sk-text-repr-fallback {display: none;}</style><div id=\"sk-container-id-1\" class=\"sk-top-container\"><div class=\"sk-text-repr-fallback\"><pre>SVC()</pre><b>In a Jupyter environment, please rerun this cell to show the HTML representation or trust the notebook. <br />On GitHub, the HTML representation is unable to render, please try loading this page with nbviewer.org.</b></div><div class=\"sk-container\" hidden><div class=\"sk-item\"><div class=\"sk-estimator sk-toggleable\"><input class=\"sk-toggleable__control sk-hidden--visually\" id=\"sk-estimator-id-1\" type=\"checkbox\" checked><label for=\"sk-estimator-id-1\" class=\"sk-toggleable__label sk-toggleable__label-arrow\">SVC</label><div class=\"sk-toggleable__content\"><pre>SVC()</pre></div></div></div></div></div>"
            ],
            "text/plain": [
              "SVC()"
            ]
          },
          "execution_count": 13,
          "metadata": {},
          "output_type": "execute_result"
        }
      ],
      "source": [
        "\n",
        "clf = svm.SVC()\n",
        "clf.fit(X_train, y_train)\n",
        "\n"
      ]
    },
    {
      "attachments": {},
      "cell_type": "markdown",
      "metadata": {
        "id": "2cxJaZlH6Uet"
      },
      "source": [
        "Vamos a generar el resultado del clasificador para nuestro conjunto de test X_test."
      ]
    },
    {
      "cell_type": "code",
      "execution_count": 14,
      "metadata": {
        "id": "42RGh2736QyF"
      },
      "outputs": [],
      "source": [
        "predicted = clf.predict(X_test)"
      ]
    },
    {
      "attachments": {},
      "cell_type": "markdown",
      "metadata": {
        "id": "tByYclzG64D-"
      },
      "source": [
        "#8.  Explique la diferencia entre los métodos fit y predict, porque el primero recibe dos parametros (X_train, y_train) y el segundo solamente un parámetro (X_test)?"
      ]
    },
    {
      "cell_type": "code",
      "execution_count": 15,
      "metadata": {
        "colab": {
          "base_uri": "https://localhost:8080/",
          "height": 428
        },
        "id": "S_3Wtm447GEb",
        "outputId": "198cecf4-2dab-4136-cc01-06363d600d82"
      },
      "outputs": [
        {
          "data": {
            "image/png": "[encoded data removed]",
            "text/plain": [
              "<Figure size 640x480 with 1 Axes>"
            ]
          },
          "metadata": {},
          "output_type": "display_data"
        }
      ],
      "source": [
        "num_img = 0\n",
        "\n",
        "pixels = X_test[num_img].reshape((8, 8))\n",
        "label = y_test[num_img]\n",
        "pred = predicted[num_img]\n",
        "\n",
        "plt.title('Real: {label} -- Predicción: {pred}'.format(label=label,pred=pred))\n",
        "plt.axis('off')\n",
        "plt.imshow(pixels, cmap='gray')\n",
        "plt.show()"
      ]
    },
    {
      "attachments": {},
      "cell_type": "markdown",
      "metadata": {
        "id": "i0Vi5oJVBGSy"
      },
      "source": [
        "#9.  Explique los resultados de matriz de confusión generada, cuales son los dígitos que causan más confusión?"
      ]
    },
    {
      "cell_type": "code",
      "execution_count": 16,
      "metadata": {
        "colab": {
          "base_uri": "https://localhost:8080/",
          "height": 688
        },
        "id": "1rHKmF3M9d9M",
        "outputId": "41b48b8e-bcd1-4b5b-bfae-10bb9e5dd175"
      },
      "outputs": [
        {
          "name": "stdout",
          "output_type": "stream",
          "text": [
            "Confusion matrix:\n",
            "[[52  0  0  0  1  0  0  0  0  0]\n",
            " [ 0 52  0  0  0  0  0  0  0  1]\n",
            " [ 1  0 51  1  0  0  0  0  0  0]\n",
            " [ 0  0  0 44  0  3  0  1  5  0]\n",
            " [ 0  0  0  0 54  0  0  0  1  2]\n",
            " [ 0  0  0  0  0 55  1  0  0  0]\n",
            " [ 0  1  0  0  0  0 53  0  0  0]\n",
            " [ 0  0  0  0  0  0  0 53  1  0]\n",
            " [ 0  1  0  0  0  0  0  0 50  1]\n",
            " [ 0  0  0  1  0  2  0  1  0 51]]\n"
          ]
        },
        {
          "data": {
            "image/png": "[encoded data removed]",
            "text/plain": [
              "<Figure size 640x480 with 2 Axes>"
            ]
          },
          "metadata": {},
          "output_type": "display_data"
        }
      ],
      "source": [
        "disp = metrics.ConfusionMatrixDisplay.from_predictions(y_test, predicted)\n",
        "disp.figure_.suptitle(\"Confusion Matrix\")\n",
        "print(f\"Confusion matrix:\\n{disp.confusion_matrix}\")\n",
        "plt.show()"
      ]
    },
    {
      "attachments": {},
      "cell_type": "markdown",
      "metadata": {
        "id": "oPpVSqVNCxmr"
      },
      "source": [
        "Veamos el comportamiento general del classificador usando el método score"
      ]
    },
    {
      "cell_type": "code",
      "execution_count": 17,
      "metadata": {
        "colab": {
          "base_uri": "https://localhost:8080/"
        },
        "id": "hhDt8boNA5vI",
        "outputId": "e42a6c2d-700a-49b4-8bfb-3d94d2b7b32d"
      },
      "outputs": [
        {
          "name": "stdout",
          "output_type": "stream",
          "text": [
            "Score de entrenamiento: 0.997\n",
            "Score test: 0.954\n"
          ]
        }
      ],
      "source": [
        "print(f\"Score de entrenamiento: {clf.score(X_train, y_train):.3f}\")\n",
        "print(f\"Score test: {clf.score(X_test, y_test):.3f}\")"
      ]
    },
    {
      "attachments": {},
      "cell_type": "markdown",
      "metadata": {
        "id": "ujsJwqAGC9nR"
      },
      "source": [
        "#10. Explique: Si tengo que reportar el comportamiento del modelo, cual es el resultado final, 0.999 o 0.970?"
      ]
    },
    {
      "attachments": {},
      "cell_type": "markdown",
      "metadata": {
        "id": "2Iu75wOwKLNP"
      },
      "source": [
        "#11. Cual de los classificadores genera mejores resultados? alguno de los modelos podría estar haciendo overfitting?"
      ]
    },
    {
      "cell_type": "code",
      "execution_count": 18,
      "metadata": {
        "colab": {
          "base_uri": "https://localhost:8080/"
        },
        "id": "ouNCJghhE3f5",
        "outputId": "22813fb8-2eab-4e7a-e433-982d38dcd9cc"
      },
      "outputs": [
        {
          "name": "stdout",
          "output_type": "stream",
          "text": [
            "******************************\n",
            "SVM\n",
            "Score de entrenamiento: 0.997\n",
            "Score test: 0.954\n",
            "******************************\n",
            "Arbol de decisión\n",
            "Score de entrenamiento: 1.000\n",
            "Score test: 0.772\n",
            "******************************\n",
            "Multilayer Perceptro\n",
            "Score de entrenamiento: 1.000\n",
            "Score test: 0.920\n"
          ]
        }
      ],
      "source": [
        "\n",
        "clf = svm.SVC()\n",
        "clf.fit(X_train, y_train)\n",
        "predicted_svm = clf.predict(X_test)\n",
        "print(\"*\"*30)\n",
        "print(\"SVM\")\n",
        "print(f\"Score de entrenamiento: {clf.score(X_train, y_train):.3f}\")\n",
        "print(f\"Score test: {clf.score(X_test, y_test):.3f}\")\n",
        "\n",
        "dt = tree.DecisionTreeClassifier()\n",
        "dt.fit(X_train, y_train)\n",
        "predicted_dt = dt.predict(X_test)\n",
        "\n",
        "print(\"*\"*30)\n",
        "print(\"Arbol de decisión\")\n",
        "print(f\"Score de entrenamiento: {dt.score(X_train, y_train):.3f}\")\n",
        "print(f\"Score test: {dt.score(X_test, y_test):.3f}\")\n",
        "\n",
        "mlp = MLPClassifier()\n",
        "mlp.fit(X_train, y_train)\n",
        "predicted_mlp = mlp.predict(X_test)\n",
        "print(\"*\"*30)\n",
        "print(\"Multilayer Perceptro\")\n",
        "print(f\"Score de entrenamiento: {mlp.score(X_train, y_train):.3f}\")\n",
        "print(f\"Score test: {mlp.score(X_test, y_test):.3f}\")"
      ]
    },
    {
      "attachments": {},
      "cell_type": "markdown",
      "metadata": {
        "id": "JedAMs0-KUnY"
      },
      "source": []
    },
    {
      "attachments": {},
      "cell_type": "markdown",
      "metadata": {
        "id": "Bl8IIvXEKXt4"
      },
      "source": [
        "#12. Use las matrices de confusión para explicar la respuesta a la pregunta 11."
      ]
    },
    {
      "cell_type": "code",
      "execution_count": 19,
      "metadata": {
        "colab": {
          "base_uri": "https://localhost:8080/",
          "height": 688
        },
        "id": "W2d3eWv2HlGP",
        "outputId": "d7230feb-17c2-4d5d-f109-dc45de2ba475"
      },
      "outputs": [
        {
          "name": "stdout",
          "output_type": "stream",
          "text": [
            "Confusion matrix:\n",
            "[[53  0  0  0  0  0  0  0  0  0]\n",
            " [ 0 54  0  0  0  0  0  0  0  0]\n",
            " [ 0  0 51  0  0  0  0  0  0  0]\n",
            " [ 0  0  0 46  0  0  0  0  0  0]\n",
            " [ 0  0  0  0 55  0  0  0  0  0]\n",
            " [ 0  0  0  0  0 60  0  0  0  0]\n",
            " [ 0  0  0  0  0  0 54  0  0  0]\n",
            " [ 0  0  0  0  0  0  0 55  0  0]\n",
            " [ 0  0  0  0  0  0  0  0 57  0]\n",
            " [ 0  0  0  0  0  0  0  0  0 55]]\n"
          ]
        },
        {
          "data": {
            "image/png": "[encoded data removed]",
            "text/plain": [
              "<Figure size 640x480 with 2 Axes>"
            ]
          },
          "metadata": {},
          "output_type": "display_data"
        }
      ],
      "source": [
        "disp = metrics.ConfusionMatrixDisplay.from_predictions(predicted_svm, predicted)\n",
        "disp.figure_.suptitle(\"Confusion Matrix\")\n",
        "print(f\"Confusion matrix:\\n{disp.confusion_matrix}\")\n",
        "plt.show()"
      ]
    }
  ],
  "metadata": {
    "colab": {
      "provenance": []
    },
    "kernelspec": {
      "display_name": "Python 3",
      "name": "python3"
    },
    "language_info": {
      "name": "python",
      "version": "3.9.13"
    }
  },
  "nbformat": 4,
  "nbformat_minor": 0
}
