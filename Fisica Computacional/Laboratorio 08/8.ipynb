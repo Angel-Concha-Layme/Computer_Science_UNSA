{
 "cells": [
  {
   "cell_type": "code",
   "execution_count": 4,
   "metadata": {},
   "outputs": [],
   "source": [
    "import numpy as np\n",
    "#from scipy import random"
   ]
  },
  {
   "cell_type": "code",
   "execution_count": 31,
   "metadata": {},
   "outputs": [],
   "source": [
    "#valores de integracion y valor teorico\n",
    "a = 0\n",
    "b = np.pi\n",
    "N = 100000\n",
    "Vteo = 2"
   ]
  },
  {
   "cell_type": "code",
   "execution_count": 32,
   "metadata": {},
   "outputs": [],
   "source": [
    "#Matriz de ceros de largo N\n",
    "ar = np.zeros(N)"
   ]
  },
  {
   "cell_type": "code",
   "execution_count": 33,
   "metadata": {},
   "outputs": [],
   "source": [
    "#Iteracion sobre cada valor de la matriz ar y le asignamos un valor aleatorio que va de 0 a pi\n",
    "for i in range(N):\n",
    "    ar[i] = np.random.uniform(a,b)"
   ]
  },
  {
   "cell_type": "code",
   "execution_count": 34,
   "metadata": {},
   "outputs": [],
   "source": [
    "# variable que almacenara la suma de las funciones de los diferentes valores que toma X con cada iteracion\n",
    "integral = 0.0"
   ]
  },
  {
   "cell_type": "code",
   "execution_count": 35,
   "metadata": {},
   "outputs": [],
   "source": [
    "#Funcion que vamos a integrar\n",
    "def f(x):\n",
    "    return np.sin(x)"
   ]
  },
  {
   "cell_type": "code",
   "execution_count": 36,
   "metadata": {},
   "outputs": [],
   "source": [
    "#Funcion que itere y sume los valores diferentes de X\n",
    "for i in ar:\n",
    "    integral += f(i)"
   ]
  },
  {
   "cell_type": "code",
   "execution_count": 37,
   "metadata": {},
   "outputs": [],
   "source": [
    "res = (b-a)/float(N)*integral\n",
    "erel = ((Vteo-res)/Vteo)*100"
   ]
  },
  {
   "cell_type": "code",
   "execution_count": 38,
   "metadata": {},
   "outputs": [
    {
     "name": "stdout",
     "output_type": "stream",
     "text": [
      "Para el numero de iteraciones:  100000\n",
      "El valor calculado analiticamente es:  2\n",
      "El valor calculado por el metodo de Monte Carlo es:  1.9989325567134029\n",
      "El error relativo es %:  0.05337216432985681\n"
     ]
    }
   ],
   "source": [
    "# Solucion de la integral\n",
    "print(\"Para el numero de iteraciones: \",format(N))\n",
    "print(\"El valor calculado analiticamente es: \",format(Vteo))\n",
    "print(\"El valor calculado por el metodo de Monte Carlo es: \",format(res))\n",
    "print(\"El error relativo es %: \",format(erel))"
   ]
  }
 ],
 "metadata": {
  "kernelspec": {
   "display_name": "Python 3.10.7 64-bit",
   "language": "python",
   "name": "python3"
  },
  "language_info": {
   "codemirror_mode": {
    "name": "ipython",
    "version": 3
   },
   "file_extension": ".py",
   "mimetype": "text/x-python",
   "name": "python",
   "nbconvert_exporter": "python",
   "pygments_lexer": "ipython3",
   "version": "3.10.7"
  },
  "orig_nbformat": 4,
  "vscode": {
   "interpreter": {
    "hash": "52e85db3a1da5fcf728bc76f79a4f38a2e9d152eef004137f029c0405bb4af4c"
   }
  }
 },
 "nbformat": 4,
 "nbformat_minor": 2
}
