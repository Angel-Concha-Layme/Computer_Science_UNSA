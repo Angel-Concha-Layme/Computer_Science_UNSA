{
 "cells": [],
 "metadata": {
  "interpreter": {
   "hash": "375724f3c6d3ac5f0c16b24678557a9cc966069015c0e83ac244453b7c8488c1"
  },
  "kernelspec": {
   "display_name": "Python 3.9.12 64-bit",
   "language": "python",
   "name": "python3"
  },
  "language_info": {
   "codemirror_mode": {
    "name": "ipython",
    "version": 3
   },
   "file_extension": ".py",
   "mimetype": "text/x-python",
   "name": "python",
   "nbconvert_exporter": "python",
   "pygments_lexer": "ipython3",
   "version": "3.9.12"
  },
  "orig_nbformat": 4
 },
 "nbformat": 4,
 "nbformat_minor": 2
}
